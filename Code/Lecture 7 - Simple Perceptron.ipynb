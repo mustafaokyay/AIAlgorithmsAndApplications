{
 "cells": [
  {
   "cell_type": "markdown",
   "metadata": {},
   "source": [
    "# Lecture 7 - Simple Perceptron\n",
    "Use this script to test concepts from lecture 7 on your computer"
   ]
  },
  {
   "cell_type": "code",
   "execution_count": 6,
   "metadata": {},
   "outputs": [],
   "source": [
    "# import relevant libraries\n",
    "import numpy as np"
   ]
  },
  {
   "cell_type": "markdown",
   "metadata": {},
   "source": [
    "Lets us start by defining the components of the perceptron we know: startweights and training data"
   ]
  },
  {
   "cell_type": "code",
   "execution_count": 1,
   "metadata": {},
   "outputs": [
    {
     "ename": "NameError",
     "evalue": "name 'np' is not defined",
     "output_type": "error",
     "traceback": [
      "\u001b[1;31m---------------------------------------------------------------------------\u001b[0m",
      "\u001b[1;31mNameError\u001b[0m                                 Traceback (most recent call last)",
      "\u001b[1;32m<ipython-input-1-4c443302c04f>\u001b[0m in \u001b[0;36m<module>\u001b[1;34m\u001b[0m\n\u001b[1;32m----> 1\u001b[1;33m \u001b[0mstart_weights\u001b[0m \u001b[1;33m=\u001b[0m \u001b[0mnp\u001b[0m\u001b[1;33m.\u001b[0m\u001b[0marray\u001b[0m\u001b[1;33m(\u001b[0m\u001b[1;33m[\u001b[0m\u001b[1;36m0\u001b[0m\u001b[1;33m,\u001b[0m \u001b[1;36m0.5\u001b[0m\u001b[1;33m,\u001b[0m \u001b[1;36m0.5\u001b[0m\u001b[1;33m]\u001b[0m\u001b[1;33m)\u001b[0m  \u001b[1;31m# add bias and weights: b w0 w1\u001b[0m\u001b[1;33m\u001b[0m\u001b[1;33m\u001b[0m\u001b[0m\n\u001b[0m\u001b[0;32m      2\u001b[0m \u001b[0mX\u001b[0m \u001b[1;33m=\u001b[0m \u001b[0mnp\u001b[0m\u001b[1;33m.\u001b[0m\u001b[0marray\u001b[0m\u001b[1;33m(\u001b[0m\u001b[1;33m[\u001b[0m\u001b[1;33m[\u001b[0m\u001b[1;36m1\u001b[0m\u001b[1;33m,\u001b[0m\u001b[1;36m1\u001b[0m\u001b[1;33m,\u001b[0m\u001b[1;36m1\u001b[0m\u001b[1;33m,\u001b[0m\u001b[1;36m1\u001b[0m\u001b[1;33m]\u001b[0m\u001b[1;33m,\u001b[0m \u001b[1;33m[\u001b[0m\u001b[1;36m1\u001b[0m\u001b[1;33m,\u001b[0m\u001b[1;36m1\u001b[0m\u001b[1;33m,\u001b[0m\u001b[1;36m0\u001b[0m\u001b[1;33m,\u001b[0m\u001b[1;36m0\u001b[0m\u001b[1;33m]\u001b[0m\u001b[1;33m,\u001b[0m \u001b[1;33m[\u001b[0m\u001b[1;36m1\u001b[0m\u001b[1;33m,\u001b[0m\u001b[1;36m0\u001b[0m\u001b[1;33m,\u001b[0m\u001b[1;36m0\u001b[0m\u001b[1;33m,\u001b[0m\u001b[1;36m0\u001b[0m\u001b[1;33m]\u001b[0m\u001b[1;33m]\u001b[0m\u001b[1;33m)\u001b[0m  \u001b[1;31m# example 3 data\u001b[0m\u001b[1;33m\u001b[0m\u001b[1;33m\u001b[0m\u001b[0m\n",
      "\u001b[1;31mNameError\u001b[0m: name 'np' is not defined"
     ]
    }
   ],
   "source": [
    "start_weights = np.array([0, 0.5, 0.5])  # add bias and weights: b w0 w1\n",
    "X = np.array([[1,1,1,1], [1,1,0,0], [1,0,0,0]])  # example 3 data "
   ]
  },
  {
   "cell_type": "markdown",
   "metadata": {},
   "source": [
    "The data X is our example data from lecture"
   ]
  },
  {
   "cell_type": "code",
   "execution_count": 8,
   "metadata": {},
   "outputs": [
    {
     "name": "stdout",
     "output_type": "stream",
     "text": [
      "[1 1 1 1]\n"
     ]
    }
   ],
   "source": [
    "taycan = X[0]\n",
    "print(taycan)"
   ]
  },
  {
   "cell_type": "markdown",
   "metadata": {},
   "source": [
    "In the next step, we have to build the class of our peceptron"
   ]
  },
  {
   "cell_type": "code",
   "execution_count": 12,
   "metadata": {},
   "outputs": [],
   "source": [
    "class Perceptron(object):\n",
    "    def __init__(self, num_runs, start_weights):\n",
    "        self.weights = start_weights\n",
    "        self.num_runs = num_runs  # run through the dataset X\n",
    "        print(\"Init perceptron with weights {}\".format(self.weights))\n",
    "        \n",
    "    def activation_function(self, y_in):\n",
    "        return 1 if y_in >=0 else 0\n",
    "    \n",
    "    def train(self, X):\n",
    "        self.X = X\n",
    "        for run in range(self.num_runs):\n",
    "            for i in range(len(self.X)):\n",
    "                x = self.X[i, 0:3]  # select input vector\n",
    "                y = self.X[i, -1]  # select class\n",
    "                print(\"Try to predict input {} with class {}\".format(x,y))\n",
    "                y_in = self.weights.T.dot(x)\n",
    "                y_estm = self.activation_function(y_in)\n",
    "                print(\"Perceptron guess: {}\".format(y_estm))\n",
    "                if(y_estm != y):\n",
    "                    print(\"Estimate {} does not equal {}\".format(y_estm,y))\n",
    "                    if(y_in < 0): self.weights = self.weights + x\n",
    "                    else: self.weights = self.weights - x"
   ]
  },
  {
   "cell_type": "markdown",
   "metadata": {},
   "source": [
    "Lets take a look:"
   ]
  },
  {
   "cell_type": "code",
   "execution_count": 13,
   "metadata": {},
   "outputs": [
    {
     "name": "stdout",
     "output_type": "stream",
     "text": [
      "Init perceptron with weights [0.  0.5 0.5]\n"
     ]
    }
   ],
   "source": [
    "my_perceptron = Perceptron(num_runs = 5, start_weights = start_weights)"
   ]
  },
  {
   "cell_type": "markdown",
   "metadata": {},
   "source": [
    "Now start the training procedure"
   ]
  },
  {
   "cell_type": "code",
   "execution_count": 20,
   "metadata": {},
   "outputs": [
    {
     "name": "stdout",
     "output_type": "stream",
     "text": [
      "Try to predict input [1 1 1] with class 1\n",
      "Perceptron guess: 1\n",
      "Try to predict input [1 1 0] with class 0\n",
      "Perceptron guess: 1\n",
      "Try to predict input [1 0 0] with class 0\n",
      "Perceptron guess: 1\n",
      "Try to predict input [1 1 1] with class 1\n",
      "Perceptron guess: 1\n",
      "Try to predict input [1 1 0] with class 0\n",
      "Perceptron guess: 1\n",
      "Try to predict input [1 0 0] with class 0\n",
      "Perceptron guess: 1\n",
      "Try to predict input [1 1 1] with class 1\n",
      "Perceptron guess: 1\n",
      "Try to predict input [1 1 0] with class 0\n",
      "Perceptron guess: 1\n",
      "Try to predict input [1 0 0] with class 0\n",
      "Perceptron guess: 1\n",
      "Try to predict input [1 1 1] with class 1\n",
      "Perceptron guess: 1\n",
      "Try to predict input [1 1 0] with class 0\n",
      "Perceptron guess: 1\n",
      "Try to predict input [1 0 0] with class 0\n",
      "Perceptron guess: 1\n",
      "Try to predict input [1 1 1] with class 1\n",
      "Perceptron guess: 1\n",
      "Try to predict input [1 1 0] with class 0\n",
      "Perceptron guess: 1\n",
      "Try to predict input [1 0 0] with class 0\n",
      "Perceptron guess: 1\n"
     ]
    }
   ],
   "source": [
    "my_perceptron.train(X)"
   ]
  },
  {
   "cell_type": "code",
   "execution_count": null,
   "metadata": {},
   "outputs": [],
   "source": []
  }
 ],
 "metadata": {
  "kernelspec": {
   "display_name": "Python 3",
   "language": "python",
   "name": "python3"
  },
  "language_info": {
   "codemirror_mode": {
    "name": "ipython",
    "version": 3
   },
   "file_extension": ".py",
   "mimetype": "text/x-python",
   "name": "python",
   "nbconvert_exporter": "python",
   "pygments_lexer": "ipython3",
   "version": "3.8.5"
  }
 },
 "nbformat": 4,
 "nbformat_minor": 4
}
