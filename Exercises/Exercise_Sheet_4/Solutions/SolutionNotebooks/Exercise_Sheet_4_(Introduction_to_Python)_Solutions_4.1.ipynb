{
 "cells": [
  {
   "cell_type": "markdown",
   "metadata": {},
   "source": [
    "# AI 1 Exercise 2: \"Introduction to Python\"\n",
    "\n",
    "## 2.1 General Python Capabilities\n",
    "\n",
    "### 1. Magic Commands \n",
    "#### 1-a) Write the Pythagorian Theorem using latex code."
   ]
  },
  {
   "cell_type": "code",
   "execution_count": 3,
   "metadata": {},
   "outputs": [
    {
     "data": {
      "text/latex": [
       "$$c = \\sqrt{a^2 + b^2}$$\n"
      ],
      "text/plain": [
       "<IPython.core.display.Latex object>"
      ]
     },
     "metadata": {},
     "output_type": "display_data"
    }
   ],
   "source": [
    "%%latex\n",
    "$$c = \\sqrt{a^2 + b^2}$$\n"
   ]
  },
  {
   "cell_type": "markdown",
   "metadata": {},
   "source": [
    "#### 1-b) What is the difference between \"%magic\" and \"%%magic\"?"
   ]
  },
  {
   "cell_type": "code",
   "execution_count": null,
   "metadata": {},
   "outputs": [],
   "source": [
    "# Magic commands with a single “%“ are called “line magic“ and only refer to the line in which they are inserted. \n",
    "# Magic comands with “%%“ are called “cell magic“ and refer to the whole cell."
   ]
  },
  {
   "cell_type": "markdown",
   "metadata": {},
   "source": [
    "#### 1-c) You can try out further %magic commands, e.g., %who or %time.\n",
    "\n",
    "* **Note:** Regarding %time, wall clock time is the actual amount of time taken to perform a job. This is equivalent to timing your job with a stopwatch and the measured time to complete your task can be affected by anything else that the system happens to be doing at the time."
   ]
  },
  {
   "cell_type": "code",
   "execution_count": 4,
   "metadata": {},
   "outputs": [
    {
     "name": "stdout",
     "output_type": "stream",
     "text": [
      "m\t n\t name\t name2\t \n",
      "name\t name2\t \n",
      "m\t n\t \n",
      "CPU times: user 2 µs, sys: 0 ns, total: 2 µs\n",
      "Wall time: 4.77 µs\n"
     ]
    }
   ],
   "source": [
    "n = 42\n",
    "m = 10 \n",
    "name = \"Vader, Darth\"\n",
    "name2 = \"Targaryen, Daenerys\"\n",
    "\n",
    "# 1. %who\n",
    "# list all your defined variables (and functions):\n",
    "%who\n",
    "# list all your defined variables that are strings:\n",
    "%who str\n",
    "# list all your defined variables that are integers:\n",
    "%who int\n",
    "\n",
    "# 2. %time\n",
    "%time"
   ]
  },
  {
   "cell_type": "markdown",
   "metadata": {},
   "source": [
    "### 2. Tuples, Lists, and DataFrames\n",
    "#### 2-a) Create a python tuple with the following input:\n",
    "**{spicy soup, spicy chicken, spicy salad, simple soup, simple chicken, raw chicken}**\n",
    "\n",
    "**Why is it usually not practical to use tuples?**\n"
   ]
  },
  {
   "cell_type": "code",
   "execution_count": 7,
   "metadata": {},
   "outputs": [
    {
     "name": "stdout",
     "output_type": "stream",
     "text": [
      "{'simple soup', 'raw chicken', 'spicy chicken', 'simple chicken', 'spicy soup', 'spicy salad'}\n"
     ]
    }
   ],
   "source": [
    "tup = {\"spicy soup\", \"spicy chicken\", \"spicy salad\", \"simple soup\", \"simple chicken\", \"raw chicken\"}\n",
    "print(tup)\n",
    "\n",
    "# The use of tuples is only reasonable if you have a set of data that you never want to\n",
    "# change or when you want to make sure it does not get changed."
   ]
  },
  {
   "cell_type": "markdown",
   "metadata": {},
   "source": [
    "#### 2-b) Transform the tuple into a pandas list. Then, transform it into a pandas dataframe with the two columns “adjective” and “noun”."
   ]
  },
  {
   "cell_type": "code",
   "execution_count": 8,
   "metadata": {},
   "outputs": [
    {
     "name": "stdout",
     "output_type": "stream",
     "text": [
      "  adjective     noun\n",
      "0    simple     soup\n",
      "1       raw  chicken\n",
      "2     spicy  chicken\n",
      "3    simple  chicken\n",
      "4     spicy     soup\n",
      "5     spicy    salad\n"
     ]
    }
   ],
   "source": [
    "import pandas as pd\n",
    "import numpy as np\n",
    "import matplotlib.pyplot as plt\n",
    "\n",
    "food = list(tup)\n",
    "y = list()\n",
    "\n",
    "for i in range(len(food)):\n",
    "    x = food[i].split()\n",
    "    y.append(x)\n",
    "    \n",
    "df = pd.DataFrame(y, columns=['adjective','noun'])\n",
    "\n",
    "print(df)"
   ]
  },
  {
   "cell_type": "markdown",
   "metadata": {},
   "source": [
    "#### 2-c) Replace “spicy“ with “peppery” for all dishes."
   ]
  },
  {
   "cell_type": "code",
   "execution_count": 12,
   "metadata": {},
   "outputs": [
    {
     "name": "stdout",
     "output_type": "stream",
     "text": [
      "  adjective     noun\n",
      "0    simple  chicken\n",
      "1   peppery    salad\n",
      "2   peppery     soup\n",
      "3       raw  chicken\n",
      "4   peppery  chicken\n",
      "5    simple     soup\n"
     ]
    }
   ],
   "source": [
    "df['adjective'].replace('spicy','peppery',inplace=True)\n",
    "print(df)"
   ]
  },
  {
   "cell_type": "markdown",
   "metadata": {},
   "source": [
    "### 3. Classes in Python\n",
    "\n",
    "#### 3-a) Create a class “child” having the attributes name, age, height, and weight."
   ]
  },
  {
   "cell_type": "code",
   "execution_count": 9,
   "metadata": {},
   "outputs": [],
   "source": [
    "class Child:\n",
    "    def __init__(self,name, age, height, weight):\n",
    "        self.name = name\n",
    "        self.age = age\n",
    "        self.height = height\n",
    "        self.weight = weight\n",
    "\n",
    "someChild = Child(\"Skywalker, Luke\", 12, 145, 45)"
   ]
  },
  {
   "cell_type": "markdown",
   "metadata": {},
   "source": [
    "#### 3-b) Now, create a class “adult” that inherits the attributes of “child” and has the additional attribute occupation."
   ]
  },
  {
   "cell_type": "code",
   "execution_count": 10,
   "metadata": {},
   "outputs": [],
   "source": [
    "class Adult(Child):\n",
    "    def __init__(self,name, age, height, weight, occupation):\n",
    "        super().__init__(name, age, height, weight)\n",
    "        #Child.__init__(self,name, age, height, weight)  ## this is an alternative to the previous line\n",
    "        self.occupation = occupation\n",
    "        \n",
    "someAdult = Adult(\"Skywalker, Anakin\", 38, 185, 88, \"Dark Lord\")"
   ]
  },
  {
   "cell_type": "markdown",
   "metadata": {},
   "source": [
    "### 4. Pandas DataFrame\n",
    "\n",
    "#### 4-a) Generate a pandas dataframe with size 10,000x3 filled with random integers between 0-1,000 and the column labels “A”, “B”, and “C”."
   ]
  },
  {
   "cell_type": "code",
   "execution_count": 11,
   "metadata": {},
   "outputs": [
    {
     "name": "stdout",
     "output_type": "stream",
     "text": [
      "        A    B    C\n",
      "0     134  579  467\n",
      "1     949  327  285\n",
      "2     593  315   86\n",
      "3      52  402  876\n",
      "4     965  221  254\n",
      "...   ...  ...  ...\n",
      "9995  111  593  231\n",
      "9996  795   91  727\n",
      "9997  927  227  507\n",
      "9998  734  741  268\n",
      "9999  606  277  722\n",
      "\n",
      "[10000 rows x 3 columns]\n"
     ]
    }
   ],
   "source": [
    "rnd = pd.DataFrame(np.random.randint(0,1000,size=(10000,3)), columns=list('ABC'))\n",
    "print(rnd)"
   ]
  },
  {
   "cell_type": "markdown",
   "metadata": {},
   "source": [
    "#### 4-b) Measure how long the creation of that dataframe takes and how much memory it uses"
   ]
  },
  {
   "cell_type": "code",
   "execution_count": 22,
   "metadata": {},
   "outputs": [
    {
     "name": "stdout",
     "output_type": "stream",
     "text": [
      "CPU times: user 2 µs, sys: 0 ns, total: 2 µs\n",
      "Wall time: 4.77 µs\n"
     ]
    }
   ],
   "source": [
    "# Time Measurement with %time:\n",
    "rnd = pd.DataFrame(np.random.randint(0,1000,size=(10000,4)), columns=list('ABCD')) \n",
    "%time"
   ]
  },
  {
   "cell_type": "code",
   "execution_count": 23,
   "metadata": {},
   "outputs": [
    {
     "name": "stdout",
     "output_type": "stream",
     "text": [
      "364 µs ± 7.89 µs per loop (mean ± std. dev. of 7 runs, 1000 loops each)\n"
     ]
    }
   ],
   "source": [
    "# Time Measurement with %timeit:\n",
    "%timeit rnd = pd.DataFrame(np.random.randint(0,1000,size=(10000,4)), columns=list('ABCD')) "
   ]
  },
  {
   "cell_type": "code",
   "execution_count": 24,
   "metadata": {},
   "outputs": [
    {
     "name": "stdout",
     "output_type": "stream",
     "text": [
      "<class 'pandas.core.frame.DataFrame'>\n",
      "RangeIndex: 10000 entries, 0 to 9999\n",
      "Data columns (total 4 columns):\n",
      "A    10000 non-null int64\n",
      "B    10000 non-null int64\n",
      "C    10000 non-null int64\n",
      "D    10000 non-null int64\n",
      "dtypes: int64(4)\n",
      "memory usage: 312.6 KB\n"
     ]
    }
   ],
   "source": [
    "# Memory Measurement with .info():\n",
    "rnd.info()"
   ]
  },
  {
   "cell_type": "markdown",
   "metadata": {},
   "source": [
    "#### 4-c) Provide some basic statistical values of the dataframe’s data"
   ]
  },
  {
   "cell_type": "code",
   "execution_count": 56,
   "metadata": {},
   "outputs": [
    {
     "data": {
      "text/html": [
       "<div>\n",
       "<style scoped>\n",
       "    .dataframe tbody tr th:only-of-type {\n",
       "        vertical-align: middle;\n",
       "    }\n",
       "\n",
       "    .dataframe tbody tr th {\n",
       "        vertical-align: top;\n",
       "    }\n",
       "\n",
       "    .dataframe thead th {\n",
       "        text-align: right;\n",
       "    }\n",
       "</style>\n",
       "<table border=\"1\" class=\"dataframe\">\n",
       "  <thead>\n",
       "    <tr style=\"text-align: right;\">\n",
       "      <th></th>\n",
       "      <th>A</th>\n",
       "      <th>B</th>\n",
       "      <th>C</th>\n",
       "      <th>D</th>\n",
       "    </tr>\n",
       "  </thead>\n",
       "  <tbody>\n",
       "    <tr>\n",
       "      <td>count</td>\n",
       "      <td>10000.000000</td>\n",
       "      <td>10000.000000</td>\n",
       "      <td>10000.000000</td>\n",
       "      <td>10000.000000</td>\n",
       "    </tr>\n",
       "    <tr>\n",
       "      <td>mean</td>\n",
       "      <td>503.441200</td>\n",
       "      <td>504.511400</td>\n",
       "      <td>497.121500</td>\n",
       "      <td>503.384400</td>\n",
       "    </tr>\n",
       "    <tr>\n",
       "      <td>std</td>\n",
       "      <td>289.553313</td>\n",
       "      <td>289.272788</td>\n",
       "      <td>288.151342</td>\n",
       "      <td>287.308562</td>\n",
       "    </tr>\n",
       "    <tr>\n",
       "      <td>min</td>\n",
       "      <td>0.000000</td>\n",
       "      <td>0.000000</td>\n",
       "      <td>0.000000</td>\n",
       "      <td>0.000000</td>\n",
       "    </tr>\n",
       "    <tr>\n",
       "      <td>25%</td>\n",
       "      <td>252.000000</td>\n",
       "      <td>258.000000</td>\n",
       "      <td>245.000000</td>\n",
       "      <td>256.000000</td>\n",
       "    </tr>\n",
       "    <tr>\n",
       "      <td>50%</td>\n",
       "      <td>506.000000</td>\n",
       "      <td>506.000000</td>\n",
       "      <td>498.000000</td>\n",
       "      <td>505.000000</td>\n",
       "    </tr>\n",
       "    <tr>\n",
       "      <td>75%</td>\n",
       "      <td>758.250000</td>\n",
       "      <td>754.250000</td>\n",
       "      <td>744.000000</td>\n",
       "      <td>753.000000</td>\n",
       "    </tr>\n",
       "    <tr>\n",
       "      <td>max</td>\n",
       "      <td>999.000000</td>\n",
       "      <td>999.000000</td>\n",
       "      <td>999.000000</td>\n",
       "      <td>999.000000</td>\n",
       "    </tr>\n",
       "  </tbody>\n",
       "</table>\n",
       "</div>"
      ],
      "text/plain": [
       "                  A             B             C             D\n",
       "count  10000.000000  10000.000000  10000.000000  10000.000000\n",
       "mean     503.441200    504.511400    497.121500    503.384400\n",
       "std      289.553313    289.272788    288.151342    287.308562\n",
       "min        0.000000      0.000000      0.000000      0.000000\n",
       "25%      252.000000    258.000000    245.000000    256.000000\n",
       "50%      506.000000    506.000000    498.000000    505.000000\n",
       "75%      758.250000    754.250000    744.000000    753.000000\n",
       "max      999.000000    999.000000    999.000000    999.000000"
      ]
     },
     "execution_count": 56,
     "metadata": {},
     "output_type": "execute_result"
    }
   ],
   "source": [
    "rnd.describe()"
   ]
  },
  {
   "cell_type": "markdown",
   "metadata": {},
   "source": [
    "#### 4-d) Sort the first column and visualize the data of that column using some visualization of your choice."
   ]
  },
  {
   "cell_type": "code",
   "execution_count": 59,
   "metadata": {},
   "outputs": [
    {
     "name": "stdout",
     "output_type": "stream",
     "text": [
      "        A    B    C    D\n",
      "7993    0  539  950  911\n",
      "6861    0  420  170    4\n",
      "834     0  799  264  410\n",
      "3017    0  125  127  432\n",
      "4148    0  770    2   45\n",
      "...   ...  ...  ...  ...\n",
      "6517  999  640  717  498\n",
      "7185  999   85  483  306\n",
      "3911  999  814  362  125\n",
      "5254  999  673   44  848\n",
      "2410  999  930  793  231\n",
      "\n",
      "[10000 rows x 4 columns]\n"
     ]
    },
    {
     "data": {
      "text/plain": [
       "{'whiskers': [<matplotlib.lines.Line2D at 0x7fd7a8ad79d0>,\n",
       "  <matplotlib.lines.Line2D at 0x7fd7a8ad7e10>],\n",
       " 'caps': [<matplotlib.lines.Line2D at 0x7fd7a8ae1290>,\n",
       "  <matplotlib.lines.Line2D at 0x7fd7a8ae16d0>],\n",
       " 'boxes': [<matplotlib.lines.Line2D at 0x7fd7a8ad7610>],\n",
       " 'medians': [<matplotlib.lines.Line2D at 0x7fd7a8ae1b50>],\n",
       " 'fliers': [<matplotlib.lines.Line2D at 0x7fd7a8ae1f90>],\n",
       " 'means': []}"
      ]
     },
     "execution_count": 59,
     "metadata": {},
     "output_type": "execute_result"
    },
    {
     "data": {
      "image/png": "[encoded data removed]",
      "text/plain": [
       "<Figure size 432x288 with 1 Axes>"
      ]
     },
     "metadata": {
      "needs_background": "light"
     },
     "output_type": "display_data"
    }
   ],
   "source": [
    "rnd = rnd.sort_values(by=['A'])\n",
    "print(rnd)\n",
    "plt.boxplot(rnd[\"A\"])"
   ]
  }
 ],
 "metadata": {
  "kernelspec": {
   "display_name": "Python 3",
   "language": "python",
   "name": "python3"
  },
  "language_info": {
   "codemirror_mode": {
    "name": "ipython",
    "version": 3
   },
   "file_extension": ".py",
   "mimetype": "text/x-python",
   "name": "python",
   "nbconvert_exporter": "python",
   "pygments_lexer": "ipython3",
   "version": "3.7.4"
  }
 },
 "nbformat": 4,
 "nbformat_minor": 2
}
